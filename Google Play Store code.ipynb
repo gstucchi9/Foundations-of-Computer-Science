{
 "cells": [
  {
   "cell_type": "code",
   "execution_count": null,
   "metadata": {
    "collapsed": true
   },
   "outputs": [],
   "source": [
    "#Import dataset\n",
    "\n",
    "import pandas as pd\n",
    "Data_original=pd.read_csv('C:\\\\Users\\\\Gianmarco\\\\Downloads\\\\Foundations of Computer Science\\\\googleplaystore.csv', encoding='UTF-8')\n",
    "\n"
   ]
  },
  {
   "cell_type": "code",
   "execution_count": null,
   "metadata": {
    "scrolled": true
   },
   "outputs": [],
   "source": [
    "# 1. Convert the app sizes to a number\n",
    "\n",
    "for i in range(0,len(Data_original['Size'])):\n",
    "    if ('M' in Data_original['Size'][i]):\n",
    "        Data_original['Size'][i]=float(Data_original['Size'][i].replace('M',''))*1000000\n",
    "    else:\n",
    "        Data_original['Size'][i]=0\n",
    "print(Data_original['Size'])\n"
   ]
  },
  {
   "cell_type": "code",
   "execution_count": null,
   "metadata": {},
   "outputs": [],
   "source": [
    "# 2. Convert the number of installs to a number\n",
    "\n",
    "for i in range(0,len(Data_original['Installs'])):\n",
    "    Data_original['Installs'][i]=Data_original['Installs'][i].replace(',','')\n",
    "    Data_original['Installs'][i]=Data_original['Installs'][i].replace('+','')\n",
    "print(Data_original['Installs'])"
   ]
  },
  {
   "cell_type": "code",
   "execution_count": null,
   "metadata": {},
   "outputs": [],
   "source": [
    "for i in range(0,len(Data_original['Size'])):\n",
    "    if (Data_original['Size'][i]==0):\n",
    "        Data_original['Size'][i]=None\n",
    "print(Data_original['Size'])"
   ]
  },
  {
   "cell_type": "code",
   "execution_count": null,
   "metadata": {},
   "outputs": [],
   "source": [
    "# 3. Transform “Varies with device” into a missing value\n",
    "\n",
    "for i in range(0,len(Data_original['Current Ver'])):\n",
    "    if Data_original['Current Ver'][i]=='Varies with device':\n",
    "        Data_original['Current Ver'][i]=None\n",
    "print(Data_original['Current Ver'])\n"
   ]
  },
  {
   "cell_type": "code",
   "execution_count": null,
   "metadata": {},
   "outputs": [],
   "source": [
    "# 4. Convert Current Ver and Android Ver into a dotted number (e.g. 4.0.3 or 4.2)\n",
    "\n",
    "for i in range(0,len(Data_original['Android Ver'])):        \n",
    "    if not type(Data_original['Android Ver'][i])==float and not Data_original['Android Ver'][i]==None:\n",
    "        Data_original['Android Ver'][i]=Data_original['Android Ver'][i].replace(' and up','')\n",
    "        Data_original['Android Ver'][i]=Data_original['Android Ver'][i].replace('W','')\n",
    "    if Data_original['Android Ver'][i]=='Varies with device' and not type(Data_original['Android Ver'][i])==float:\n",
    "        Data_original['Android Ver'][i]=None\n",
    "    \n",
    "\n",
    "    "
   ]
  },
  {
   "cell_type": "code",
   "execution_count": null,
   "metadata": {
    "collapsed": true
   },
   "outputs": [],
   "source": [
    "# Uso dill per salvare le modifiche\n",
    "import dill"
   ]
  },
  {
   "cell_type": "code",
   "execution_count": null,
   "metadata": {
    "collapsed": true
   },
   "outputs": [],
   "source": [
    "dill.dump_session('notebook_session.db')"
   ]
  },
  {
   "cell_type": "code",
   "execution_count": null,
   "metadata": {
    "collapsed": true
   },
   "outputs": [],
   "source": [
    "dill.load_session('notebook_session.db')"
   ]
  },
  {
   "cell_type": "code",
   "execution_count": null,
   "metadata": {},
   "outputs": [],
   "source": [
    "len(Data_original)"
   ]
  },
  {
   "cell_type": "code",
   "execution_count": null,
   "metadata": {
    "collapsed": true
   },
   "outputs": [],
   "source": [
    "# 5. Remove the duplicates\n",
    "\n",
    "Data_original.drop_duplicates(inplace=True)"
   ]
  },
  {
   "cell_type": "code",
   "execution_count": null,
   "metadata": {},
   "outputs": [],
   "source": [
    "len(Data_original)"
   ]
  },
  {
   "cell_type": "code",
   "execution_count": null,
   "metadata": {},
   "outputs": [],
   "source": [
    "# 6. For each category, compute the number of apps\n",
    "Data_original['Category'].value_counts()"
   ]
  },
  {
   "cell_type": "code",
   "execution_count": null,
   "metadata": {
    "collapsed": true
   },
   "outputs": [],
   "source": [
    "# 7. For each category, compute the average rating\n",
    "Data_original.groupby('Category')['Rating'].mean()"
   ]
  },
  {
   "cell_type": "code",
   "execution_count": null,
   "metadata": {},
   "outputs": [],
   "source": [
    "# 9. For each genre, create a new column of the original dataframe. \n",
    "#The new columns must have boolean values (True if the app has a given genre)\n",
    "\n",
    "for i in range(0,len(Data_original['Category'])):\n",
    "    if Data_original['Genres'].iloc[i] not in list(Data_original):\n",
    "        if ';' in Data_original['Genres'].iloc[i]:\n",
    "            generi=Data_original['Genres'].iloc[i].split(';')\n",
    "            nome0=generi[0]\n",
    "            nome1=generi[1]\n",
    "            Data_original[nome0]=Data_original['Genres']==nome0\n",
    "            Data_original[nome1]=Data_original['Genres']==nome1\n",
    "        else:        \n",
    "            nome=Data_original['Genres'].iloc[i]\n",
    "            Data_original[nome]=Data_original['Genres']==nome\n",
    "    print(i)\n",
    "    "
   ]
  },
  {
   "cell_type": "code",
   "execution_count": null,
   "metadata": {},
   "outputs": [],
   "source": [
    "list(Data_original)"
   ]
  },
  {
   "cell_type": "code",
   "execution_count": null,
   "metadata": {
    "collapsed": true
   },
   "outputs": [],
   "source": [
    "dill.dump_session('notebook_session.db')"
   ]
  },
  {
   "cell_type": "code",
   "execution_count": null,
   "metadata": {
    "collapsed": true
   },
   "outputs": [],
   "source": [
    "# Creo un nuovo dataframe\n",
    "df_ = pd.DataFrame()\n",
    "df_ = df_.fillna(0)"
   ]
  },
  {
   "cell_type": "code",
   "execution_count": null,
   "metadata": {
    "collapsed": true
   },
   "outputs": [],
   "source": [
    "# 10. For each genre, compute the average rating. What is the genre with highest average?\n",
    "Data_original.groupby('Genres')['Rating'].mean()\n",
    "Data_original.groupby('Genres')['Rating'].mean().idxmax()\n",
    "# Non è corretto perchè molte app sono caratterizzate da due generi separati dal ';' , dunque tramite un ciclo for\n",
    "# duplico ogni doppio genere,assegnando lo stesso rating. Il tutto aggiungendo le osservazioni al nuovo dataframe."
   ]
  },
  {
   "cell_type": "code",
   "execution_count": null,
   "metadata": {
    "collapsed": true
   },
   "outputs": [],
   "source": [
    "for i in range(0,len(Data_original['Category'])):\n",
    "    if ';' in Data_original['Genres'].iloc[i]:\n",
    "        generi=Data_original['Genres'].iloc[i].split(';')\n",
    "        df_=df_.append({'Genres':generi[0],'Rating':Data_original['Rating'].iloc[i]},ignore_index=True)\n",
    "        df_=df_.append({'Genres':generi[1],'Rating':Data_original['Rating'].iloc[i]},ignore_index=True)\n",
    "    else:\n",
    "        df_=df_.append({'Genres':Data_original['Genres'].iloc[i],'Rating':Data_original['Rating'].iloc[i]},ignore_index=True)"
   ]
  },
  {
   "cell_type": "code",
   "execution_count": null,
   "metadata": {
    "collapsed": true
   },
   "outputs": [],
   "source": [
    "# Ora calcolo i rating medi per genere e il genere corrispondente al valore massimo.\n",
    "df_.groupby('Genres')['Rating'].mean()\n",
    "df_.groupby('Genres')['Rating'].mean().idxmax()"
   ]
  },
  {
   "cell_type": "code",
   "execution_count": null,
   "metadata": {
    "collapsed": true
   },
   "outputs": [],
   "source": [
    "dill.dump_session('notebook_session.db')"
   ]
  },
  {
   "cell_type": "code",
   "execution_count": null,
   "metadata": {},
   "outputs": [],
   "source": [
    "# Verifico la presenza di e ne scopro uno (genere sbagliato e rating pari a 19, la elimino)\n",
    "df_[df_['Rating']>5]\n"
   ]
  },
  {
   "cell_type": "code",
   "execution_count": null,
   "metadata": {
    "collapsed": true
   },
   "outputs": [],
   "source": [
    "df_=df_.drop([10448],axis=0)"
   ]
  },
  {
   "cell_type": "code",
   "execution_count": null,
   "metadata": {
    "collapsed": true
   },
   "outputs": [],
   "source": [
    "df_.groupby('Genres')['Rating'].mean()"
   ]
  },
  {
   "cell_type": "code",
   "execution_count": null,
   "metadata": {
    "collapsed": true
   },
   "outputs": [],
   "source": [
    "df_.groupby('Genres')['Rating'].mean().idxmax()"
   ]
  },
  {
   "cell_type": "code",
   "execution_count": null,
   "metadata": {
    "collapsed": true
   },
   "outputs": [],
   "source": [
    "# Creo una nuova variabile 'Approx Income'\n",
    "Data_original['Approx Income']=0"
   ]
  },
  {
   "cell_type": "code",
   "execution_count": null,
   "metadata": {},
   "outputs": [],
   "source": [
    "list(Data_original['Price'])\n",
    "# Vedo che le app non gratuite hanno il prezzo espresso in dollari. Dunque rimuovo il simbolo '$'"
   ]
  },
  {
   "cell_type": "code",
   "execution_count": null,
   "metadata": {},
   "outputs": [],
   "source": [
    "for i in range(0,len(Data_original['Price'])):\n",
    "    if '$' in Data_original['Price'].iloc[i]:\n",
    "        Data_original['Price'].iloc[i]=Data_original['Price'].iloc[i].replace('$','')\n",
    "        \n",
    "    "
   ]
  },
  {
   "cell_type": "code",
   "execution_count": null,
   "metadata": {},
   "outputs": [],
   "source": [
    "# Converto i prezzi da stringa a float prima di moltiplicarli per il numero di installazioni.\n",
    "for i in range(0,len(Data_original['Price'])):\n",
    "    if type(Data_original['Price'].iloc[i])!=str:\n",
    "        Data_original['Price'].iloc[i]=float(Data_original['Price'].iloc[i])\n",
    "    else:\n",
    "        Data_original=Data_original.drop(Data_original.index[i])\n",
    "    print(i)"
   ]
  },
  {
   "cell_type": "code",
   "execution_count": null,
   "metadata": {
    "collapsed": true
   },
   "outputs": [],
   "source": [
    "# 11. For each app, compute the approximate income, obtain as a product of number of installs and price.\n",
    "for i in range(0,len(Data_original['Price'])):\n",
    "    if (type(Data_original['Price'].iloc[i])!=str and type(Data_original['Installs'].iloc[i])!=str):\n",
    "        Data_original['Approx Income'].iloc[i]=(Data_original['Price'].iloc[i])*(Data_original['Installs'].iloc[i])\n",
    "    print(i)\n",
    "    "
   ]
  },
  {
   "cell_type": "code",
   "execution_count": null,
   "metadata": {
    "collapsed": true
   },
   "outputs": [],
   "source": [
    "list(Data_original['Approx Income'])"
   ]
  },
  {
   "cell_type": "code",
   "execution_count": null,
   "metadata": {},
   "outputs": [],
   "source": [
    "# 12. For each app, compute its minimum and maximum Sentiment_polarity\n",
    "# Importo il dataset con le reviews\n",
    "Data_reviews=pd.read_csv('C:\\\\Users\\\\Gianmarco\\\\Downloads\\\\Foundations of Computer Science\\\\googleplaystore_user_reviews.csv', encoding='UTF-8')"
   ]
  },
  {
   "cell_type": "code",
   "execution_count": null,
   "metadata": {},
   "outputs": [],
   "source": [
    "Data_reviews.groupby('App')['Sentiment_Polarity'].min()\n",
    "Data_reviews.groupby('App')['Sentiment_Polarity'].max()"
   ]
  }
 ],
 "metadata": {
  "kernelspec": {
   "display_name": "Python 3",
   "language": "python",
   "name": "python3"
  },
  "language_info": {
   "codemirror_mode": {
    "name": "ipython",
    "version": 3
   },
   "file_extension": ".py",
   "mimetype": "text/x-python",
   "name": "python",
   "nbconvert_exporter": "python",
   "pygments_lexer": "ipython3",
   "version": "3.6.3"
  }
 },
 "nbformat": 4,
 "nbformat_minor": 2
}
